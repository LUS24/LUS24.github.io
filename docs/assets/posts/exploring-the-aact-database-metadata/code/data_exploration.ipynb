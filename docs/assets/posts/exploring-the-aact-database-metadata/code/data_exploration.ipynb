{
 "cells": [
  {
   "cell_type": "markdown",
   "metadata": {},
   "source": [
    "# AACT database Metadata Exploration\n",
    "\n",
    "## Table of contents\n",
    "\n",
    "1. [Load the libraries](#1-load-the-libraries)\n",
    "2. General outlook\n",
    "\n",
    "\n",
    "For each metadata table:\n",
    "- [Read the table](#)\n",
    "- \n",
    "- Create a bar chart with the count of unique values for each column\n",
    "- Show the table head\n",
    "- For columns with less than 10 unique values, show the unique values and their counts\n",
    "- Count the number of missing values for each column\n",
    "- Generate report\n",
    "- Read the report\n",
    "  - Decide which columns to keep\n",
    "  - Save the selected data into a new csv file.\n",
    "  - Make a brief description of the table and the columns that were kept.\n"
   ]
  },
  {
   "cell_type": "markdown",
   "metadata": {},
   "source": [
    "## 1. Load the libraries"
   ]
  },
  {
   "cell_type": "code",
   "execution_count": null,
   "metadata": {},
   "outputs": [],
   "source": [
    "import pandas as pd # To interact with the datbular data\n",
    "from pathlib import Path # To interact with the file system\n",
    "# Configure pandas to use seaborn for plotting\n",
    "import seaborn as sns\n",
    "import matplotlib.pyplot as plt\n",
    "sns.set_theme()"
   ]
  },
  {
   "cell_type": "markdown",
   "metadata": {},
   "source": [
    "## 2. Exploring the tables"
   ]
  },
  {
   "cell_type": "markdown",
   "metadata": {},
   "source": [
    "### 2.1. Get the table paths\n",
    "\n",
    "Get the paths of all csv files in the current directory and its subdirectories"
   ]
  },
  {
   "cell_type": "code",
   "execution_count": 5,
   "metadata": {},
   "outputs": [
    {
     "name": "stdout",
     "output_type": "stream",
     "text": [
      "2024-03-15_aact_data_elements_metadata.csv\n",
      "2024-03-15_aact_tables_metadata.csv\n",
      "2024-03-15_aact_views_functions_metadata.csv\n"
     ]
    }
   ],
   "source": [
    "file_paths = list(Path.cwd().rglob('*.csv'))\n",
    "\n",
    "for file_path in file_paths:\n",
    "    print(file_path.name)"
   ]
  },
  {
   "cell_type": "markdown",
   "metadata": {},
   "source": [
    "### 2.2. Exploring Table 1"
   ]
  },
  {
   "cell_type": "markdown",
   "metadata": {},
   "source": [
    "Showing some general information for the table"
   ]
  },
  {
   "cell_type": "code",
   "execution_count": 21,
   "metadata": {},
   "outputs": [
    {
     "name": "stdout",
     "output_type": "stream",
     "text": [
      "Getting info for 2024-03-15_aact_data_elements_metadata.csv\n",
      "<class 'pandas.core.frame.DataFrame'>\n",
      "RangeIndex: 453 entries, 0 to 452\n",
      "Data columns (total 9 columns):\n",
      " #   Column        Non-Null Count  Dtype  \n",
      "---  ------        --------------  -----  \n",
      " 0   Unnamed: 0    0 non-null      float64\n",
      " 1   nlm doc       324 non-null    object \n",
      " 2   db schema     453 non-null    object \n",
      " 3   table         453 non-null    object \n",
      " 4   column        453 non-null    object \n",
      " 5   data type     451 non-null    object \n",
      " 6   CTTI note     269 non-null    object \n",
      " 7   enumerations  67 non-null     object \n",
      " 8   source        344 non-null    object \n",
      "dtypes: float64(1), object(8)\n",
      "memory usage: 32.0+ KB\n"
     ]
    }
   ],
   "source": [
    "table_path = file_paths[0]\n",
    "\n",
    "print(f\"Getting info for {table_path.name}\")\n",
    "df = pd.read_csv(table_path)\n",
    "df.info()"
   ]
  },
  {
   "cell_type": "markdown",
   "metadata": {},
   "source": [
    "Getting an idea of how the table looks like"
   ]
  },
  {
   "cell_type": "code",
   "execution_count": 22,
   "metadata": {},
   "outputs": [
    {
     "data": {
      "text/html": [
       "<div>\n",
       "<style scoped>\n",
       "    .dataframe tbody tr th:only-of-type {\n",
       "        vertical-align: middle;\n",
       "    }\n",
       "\n",
       "    .dataframe tbody tr th {\n",
       "        vertical-align: top;\n",
       "    }\n",
       "\n",
       "    .dataframe thead th {\n",
       "        text-align: right;\n",
       "    }\n",
       "</style>\n",
       "<table border=\"1\" class=\"dataframe\">\n",
       "  <thead>\n",
       "    <tr style=\"text-align: right;\">\n",
       "      <th></th>\n",
       "      <th>Unnamed: 0</th>\n",
       "      <th>nlm doc</th>\n",
       "      <th>db schema</th>\n",
       "      <th>table</th>\n",
       "      <th>column</th>\n",
       "      <th>data type</th>\n",
       "      <th>CTTI note</th>\n",
       "      <th>enumerations</th>\n",
       "      <th>source</th>\n",
       "    </tr>\n",
       "  </thead>\n",
       "  <tbody>\n",
       "    <tr>\n",
       "      <th>0</th>\n",
       "      <td>NaN</td>\n",
       "      <td>NaN</td>\n",
       "      <td>ctgov</td>\n",
       "      <td>studies</td>\n",
       "      <td>disposition_first_submitted_date</td>\n",
       "      <td>date</td>\n",
       "      <td>Date when a sponsor indicates that they will b...</td>\n",
       "      <td>NaN</td>\n",
       "      <td>ProtocolSection.StatusModule.DispFirstSubmitDate</td>\n",
       "    </tr>\n",
       "    <tr>\n",
       "      <th>1</th>\n",
       "      <td>NaN</td>\n",
       "      <td>NaN</td>\n",
       "      <td>ctgov</td>\n",
       "      <td>studies</td>\n",
       "      <td>study_first_submitted_date</td>\n",
       "      <td>date</td>\n",
       "      <td>Per NLM: \"The _submitted suffix indicates the ...</td>\n",
       "      <td>NaN</td>\n",
       "      <td>ProtocolSection.StatusModule.StudyFirstSubmitDate</td>\n",
       "    </tr>\n",
       "    <tr>\n",
       "      <th>2</th>\n",
       "      <td>NaN</td>\n",
       "      <td>StartDate</td>\n",
       "      <td>ctgov</td>\n",
       "      <td>studies</td>\n",
       "      <td>start_month_year</td>\n",
       "      <td>string</td>\n",
       "      <td>The value of the start date exactly as it is p...</td>\n",
       "      <td>NaN</td>\n",
       "      <td>ProtocolSection.StatusModule.StartDateStruct.S...</td>\n",
       "    </tr>\n",
       "    <tr>\n",
       "      <th>3</th>\n",
       "      <td>NaN</td>\n",
       "      <td>NaN</td>\n",
       "      <td>ctgov</td>\n",
       "      <td>studies</td>\n",
       "      <td>nlm_download_date_description</td>\n",
       "      <td>string</td>\n",
       "      <td>Date NLM made study available via their API.</td>\n",
       "      <td>NaN</td>\n",
       "      <td>NaN</td>\n",
       "    </tr>\n",
       "    <tr>\n",
       "      <th>4</th>\n",
       "      <td>NaN</td>\n",
       "      <td>NaN</td>\n",
       "      <td>ctgov</td>\n",
       "      <td>studies</td>\n",
       "      <td>last_update_submitted_date</td>\n",
       "      <td>date</td>\n",
       "      <td>Per NLM: \"The _submitted suffix indicates the ...</td>\n",
       "      <td>NaN</td>\n",
       "      <td>ProtocolSection.StatusModule.LastUpdateSubmitDate</td>\n",
       "    </tr>\n",
       "  </tbody>\n",
       "</table>\n",
       "</div>"
      ],
      "text/plain": [
       "   Unnamed: 0    nlm doc db schema    table                            column  \\\n",
       "0         NaN        NaN     ctgov  studies  disposition_first_submitted_date   \n",
       "1         NaN        NaN     ctgov  studies        study_first_submitted_date   \n",
       "2         NaN  StartDate     ctgov  studies                  start_month_year   \n",
       "3         NaN        NaN     ctgov  studies     nlm_download_date_description   \n",
       "4         NaN        NaN     ctgov  studies        last_update_submitted_date   \n",
       "\n",
       "  data type                                          CTTI note enumerations  \\\n",
       "0      date  Date when a sponsor indicates that they will b...          NaN   \n",
       "1      date  Per NLM: \"The _submitted suffix indicates the ...          NaN   \n",
       "2    string  The value of the start date exactly as it is p...          NaN   \n",
       "3    string       Date NLM made study available via their API.          NaN   \n",
       "4      date  Per NLM: \"The _submitted suffix indicates the ...          NaN   \n",
       "\n",
       "                                              source  \n",
       "0   ProtocolSection.StatusModule.DispFirstSubmitDate  \n",
       "1  ProtocolSection.StatusModule.StudyFirstSubmitDate  \n",
       "2  ProtocolSection.StatusModule.StartDateStruct.S...  \n",
       "3                                                NaN  \n",
       "4  ProtocolSection.StatusModule.LastUpdateSubmitDate  "
      ]
     },
     "execution_count": 22,
     "metadata": {},
     "output_type": "execute_result"
    }
   ],
   "source": [
    "df.head()"
   ]
  },
  {
   "cell_type": "markdown",
   "metadata": {},
   "source": [
    "Getting the most common values for each column"
   ]
  },
  {
   "cell_type": "code",
   "execution_count": 25,
   "metadata": {},
   "outputs": [
    {
     "name": "stdout",
     "output_type": "stream",
     "text": [
      "Most common values for Unnamed: 0\n",
      "Series([], Name: count, dtype: int64)\n",
      "Most common values for nlm doc\n",
      "nlm doc\n",
      "DocumentUpload                               14\n",
      "Facility                                     11\n",
      "PopFlowArmGroup                              10\n",
      "OutcomeData                                   7\n",
      "OutcomesBody                                  7\n",
      "Result_Baseline_ArmGroup_numUnitsAnalyzed     7\n",
      "StudyOfficials                                7\n",
      "RespParty                                     7\n",
      "IntMasking                                    6\n",
      "Result_Outcome_MeasureLabel                   6\n",
      "Name: count, dtype: int64\n",
      "Most common values for db schema\n",
      "db schema\n",
      "ctgov                      385\n",
      "proj_results_reporting      53\n",
      "proj_cdek_standard_orgs      8\n",
      "proj_tag_nephrology          7\n",
      "Name: count, dtype: int64\n",
      "Most common values for table\n",
      "table\n",
      "studies                  60\n",
      "analyzed_studies         57\n",
      "outcome_analyses         22\n",
      "outcome_measurements     19\n",
      "calculated_values        19\n",
      "baseline_measurements    18\n",
      "reported_events          17\n",
      "designs                  14\n",
      "outcomes                 13\n",
      "eligibilities            11\n",
      "Name: count, dtype: int64\n",
      "Most common values for column\n",
      "column\n",
      "id                  50\n",
      "nct_id              48\n",
      "name                18\n",
      "description         12\n",
      "ctgov_group_code     9\n",
      "result_group_id      8\n",
      "title                7\n",
      "units                5\n",
      "param_type           4\n",
      "url                  4\n",
      "Name: count, dtype: int64\n",
      "Most common values for data type\n",
      "data type\n",
      "string        266\n",
      "integer        89\n",
      "text           36\n",
      "boolean        23\n",
      "date           20\n",
      "decimal        13\n",
      "timestamps      2\n",
      "float 7:6       2\n",
      "Name: count, dtype: int64\n",
      "Most common values for CTTI note\n",
      "CTTI note\n",
      "AACT foreign key to Study                                                                                                                                                                                                                                                                                                                                 45\n",
      "AACT assigned primary key                                                                                                                                                                                                                                                                                                                                 40\n",
      "AACT assigned foreign key                                                                                                                                                                                                                                                                                                                                 16\n",
      "Per NLM: \"The _submitted_qc suffix indicates the submission date of the version of the record that met quality control criteria. It is common for there to be revisions between the first submission and the submission that meets qc criteria. Note this is not the date that the qc review was completed.\"                                               4\n",
      "Primary Key\\n                                                                                                                                                                                                                                                                                                                                              4\n",
      "Per NLM: \"The _posted suffix indicates the date that a submission was made public on ClinicalTrials.gov. Typically, posting occurs the business day after qc review was successfully completed. We began collecting posted dates in early 2017. Dates from before then are estmates. All posted dates include a type attribute of Actual or Estimate.\"     3\n",
      "Used for reporting the lower limit of the interquartile range or full range.                                                                                                                                                                                                                                                                               2\n",
      "category the object is grouped under                                                                                                                                                                                                                                                                                                                       2\n",
      "value provided as decimal                                                                                                                                                                                                                                                                                                                                  2\n",
      "value provided as string                                                                                                                                                                                                                                                                                                                                   2\n",
      "Name: count, dtype: int64\n",
      "Most common values for enumerations\n",
      "enumerations\n",
      "Actual (253,251 - 52.72%)null (188,029 - 39.14%)Anticipated (39,123 - 8.14%)                                                                                                                                                                                                                                                                                                                                                                                                                                                                                                                                                                                                                                                                                                                                                                                                                                                                                                                                                                                                                                                                                                                                                                                                                                                                                                                                                                                                                                                                                                                                                                                                                                                                                                                                                                                                                                                                                                                                                                                                                                                                                                                                                                                                                                                                                                                                                                                                                                                                                                                                                                                                                                                                                                                                                                                                                                                                                                                                                                                                                                                                                                                                                                                                                                                                                                                                                                                                                                                                                                                                                                                                                                                                                                                                                                                                                                                                                                                                                                                                                                                                                                                                                                                                                                                                                                         1\n",
      "No (340,789 - 71.07%)Accepts Healthy Volunteers (126,978 - 26.48%)null (11,753 - 2.45%)                                                                                                                                                                                                                                                                                                                                                                                                                                                                                                                                                                                                                                                                                                                                                                                                                                                                                                                                                                                                                                                                                                                                                                                                                                                                                                                                                                                                                                                                                                                                                                                                                                                                                                                                                                                                                                                                                                                                                                                                                                                                                                                                                                                                                                                                                                                                                                                                                                                                                                                                                                                                                                                                                                                                                                                                                                                                                                                                                                                                                                                                                                                                                                                                                                                                                                                                                                                                                                                                                                                                                                                                                                                                                                                                                                                                                                                                                                                                                                                                                                                                                                                                                                                                                                                                                              1\n",
      "Completed (261,660 - 54.47%)Recruiting (66,121 - 13.76%)Unknown status (64,252 - 13.37%)Terminated (27,814 - 5.79%)Not yet recruiting (19,948 - 4.15%)Active, not recruiting (19,619 - 4.08%)Withdrawn (13,627 - 2.84%)Enrolling by invitation (3,910 - 0.81%)Suspended (1,643 - 0.34%)Withheld (883 - 0.18%)No longer available (444 - 0.09%)Available (259 - 0.05%)Approved for marketing (197 - 0.04%)Temporarily not available (26 - 0.01%)                                                                                                                                                                                                                                                                                                                                                                                                                                                                                                                                                                                                                                                                                                                                                                                                                                                                                                                                                                                                                                                                                                                                                                                                                                                                                                                                                                                                                                                                                                                                                                                                                                                                                                                                                                                                                                                                                                                                                                                                                                                                                                                                                                                                                                                                                                                                                                                                                                                                                                                                                                                                                                                                                                                                                                                                                                                                                                                                                                                                                                                                                                                                                                                                                                                                                                                                                                                                                                                                                                                                                                                                                                                                                                                                                                                                                                                                                                                                      1\n",
      "Sponsor (248,496 - 53.81%)Principal Investigator (166,504 - 36.05%)null (25,629 - 5.55%)Sponsor-Investigator (21,179 - 4.59%)                                                                                                                                                                                                                                                                                                                                                                                                                                                                                                                                                                                                                                                                                                                                                                                                                                                                                                                                                                                                                                                                                                                                                                                                                                                                                                                                                                                                                                                                                                                                                                                                                                                                                                                                                                                                                                                                                                                                                                                                                                                                                                                                                                                                                                                                                                                                                                                                                                                                                                                                                                                                                                                                                                                                                                                                                                                                                                                                                                                                                                                                                                                                                                                                                                                                                                                                                                                                                                                                                                                                                                                                                                                                                                                                                                                                                                                                                                                                                                                                                                                                                                                                                                                                                                                        1\n",
      "Measure (1,202,074 - 100.0%)                                                                                                                                                                                                                                                                                                                                                                                                                                                                                                                                                                                                                                                                                                                                                                                                                                                                                                                                                                                                                                                                                                                                                                                                                                                                                                                                                                                                                                                                                                                                                                                                                                                                                                                                                                                                                                                                                                                                                                                                                                                                                                                                                                                                                                                                                                                                                                                                                                                                                                                                                                                                                                                                                                                                                                                                                                                                                                                                                                                                                                                                                                                                                                                                                                                                                                                                                                                                                                                                                                                                                                                                                                                                                                                                                                                                                                                                                                                                                                                                                                                                                                                                                                                                                                                                                                                                                         1\n",
      "null (480,227 - 99.96%)true (176 - 0.04%)                                                                                                                                                                                                                                                                                                                                                                                                                                                                                                                                                                                                                                                                                                                                                                                                                                                                                                                                                                                                                                                                                                                                                                                                                                                                                                                                                                                                                                                                                                                                                                                                                                                                                                                                                                                                                                                                                                                                                                                                                                                                                                                                                                                                                                                                                                                                                                                                                                                                                                                                                                                                                                                                                                                                                                                                                                                                                                                                                                                                                                                                                                                                                                                                                                                                                                                                                                                                                                                                                                                                                                                                                                                                                                                                                                                                                                                                                                                                                                                                                                                                                                                                                                                                                                                                                                                                            1\n",
      "overall (181,280 - 100.0%)                                                                                                                                                                                                                                                                                                                                                                                                                                                                                                                                                                                                                                                                                                                                                                                                                                                                                                                                                                                                                                                                                                                                                                                                                                                                                                                                                                                                                                                                                                                                                                                                                                                                                                                                                                                                                                                                                                                                                                                                                                                                                                                                                                                                                                                                                                                                                                                                                                                                                                                                                                                                                                                                                                                                                                                                                                                                                                                                                                                                                                                                                                                                                                                                                                                                                                                                                                                                                                                                                                                                                                                                                                                                                                                                                                                                                                                                                                                                                                                                                                                                                                                                                                                                                                                                                                                                                           1\n",
      "Participants (180,476 - 99.56%)Eyes (116 - 0.06%)eyes (58 - 0.03%)test sites on skin (23 - 0.01%)Teeth (20 - 0.01%)Implants (20 - 0.01%)Test sites on skin (18 - 0.01%)lesions (17 - 0.01%)community (15 - 0.01%)Lesions (14 - 0.01%)Clinics (12 - 0.01%)teeth (11 - 0.01%)clinics (11 - 0.01%)Sites (10 - 0.01%)implants (10 - 0.01%)blood samples (10 - 0.01%)Subjects (8 - 0.0%)Counties (8 - 0.0%)tooth (7 - 0.0%)site (6 - 0.0%)Knees (6 - 0.0%)Forearms (6 - 0.0%)Facilities (6 - 0.0%)Count of Participants (6 - 0.0%)study eyes (5 - 0.0%)Practice Sites (5 - 0.0%)participants (5 - 0.0%)parks (5 - 0.0%)Hips (5 - 0.0%)hips (5 - 0.0%)Heart Rate Monitors (5 - 0.0%)Heart Rate (5 - 0.0%)HbF measures (5 - 0.0%)clinical practices (5 - 0.0%)Basal cell carcinoma lesions (5 - 0.0%)wrists (4 - 0.0%)Wounds (4 - 0.0%)Specimens (4 - 0.0%)Number Areas (4 - 0.0%)MIH affected molars (4 - 0.0%)Maxillary sinus (4 - 0.0%)limbs (4 - 0.0%)flanks (4 - 0.0%)Eyes with Macular Edema (4 - 0.0%)Eyes with macular edema (4 - 0.0%)ears (4 - 0.0%)Demographics (4 - 0.0%)Children's centres (4 - 0.0%)Absorbent units (4 - 0.0%)wounds (3 - 0.0%)Wound halves (3 - 0.0%)warts (3 - 0.0%)VA Medical Centers (3 - 0.0%)VAC dressing changes (3 - 0.0%)Trials (3 - 0.0%)Tooth Sites (3 - 0.0%)sweat samples (3 - 0.0%)surveillance exams (3 - 0.0%)suctioning number (3 - 0.0%)Sides of the forehead (3 - 0.0%)Shoulders (3 - 0.0%)sets of eyes (3 - 0.0%)Schools (3 - 0.0%)schools (3 - 0.0%)right or left second molar (3 - 0.0%)Procedures (3 - 0.0%)primary molars (3 - 0.0%)Primary care clinics (3 - 0.0%)Polyps (3 - 0.0%)Pharmacy (3 - 0.0%)Pharmacies (3 - 0.0%)Person-visits (3 - 0.0%)Patient Visit (3 - 0.0%)Patients (3 - 0.0%)patient hospitalizations (3 - 0.0%)Parent & child report of child/family (3 - 0.0%)Other Units (Polyps) (3 - 0.0%)Operative Days (3 - 0.0%)nursing homes (3 - 0.0%)Nursing home facility (3 - 0.0%)Nursing home (3 - 0.0%)Number of units (VA hospitals) (3 - 0.0%)Number of tests (3 - 0.0%)number of teeth restored with crowns (3 - 0.0%)Number of teeth (3 - 0.0%)Number (3 - 0.0%)Medical Visits (3 - 0.0%)Male-female couples (3 - 0.0%)L(left) and R(right) Maxillary sextant (3 - 0.0%)Limbs (3 - 0.0%)knees (3 - 0.0%)INO (3 - 0.0%)Imaging Slots (3 - 0.0%)ICUs (3 - 0.0%)healthcare units (3 - 0.0%)Hands (3 - 0.0%)half faces (3 - 0.0%)filters (3 - 0.0%)Family Planning Clinics (3 - 0.0%)Families (3 - 0.0%)families (3 - 0.0%)# fallopian tubes (3 - 0.0%)Episodes (3 - 0.0%)ED encounters (3 - 0.0%)Dyads (3 - 0.0%)dyad (3 - 0.0%)drug shops (3 - 0.0%)Donations (3 - 0.0%)Digits (3 - 0.0%)Crowns (3 - 0.0%)Couples (3 - 0.0%)completed surveys (3 - 0.0%)Clusters (3 - 0.0%)child-parent-observer dyads (3 - 0.0%)case (3 - 0.0%)C2H Counties (3 - 0.0%)Bleeding Sites (3 - 0.0%)arms (3 - 0.0%)years (2 - 0.0%)treatment areas (2 - 0.0%)Lymph nodes (2 - 0.0%)joints (2 - 0.0%)feet (2 - 0.0%)Breasts (2 - 0.0%)Vessels (1 - 0.0%)VAMC (1 - 0.0%)Tooth Surfaces (1 - 0.0%)third molar teeth (1 - 0.0%)Surgical sites (1 - 0.0%)Surgeries (1 - 0.0%)Spinal Levels (1 - 0.0%)SK lesions (1 - 0.0%)Skin Test Sites (1 - 0.0%)Skin areas (1 - 0.0%)side of the face treated (1 - 0.0%)Side of Abdomen (1 - 0.0%)Sentinel Lymph Nodes (SLN) (1 - 0.0%)Restorations (1 - 0.0%)psoriatic plaques (1 - 0.0%)Primary Eyes (1 - 0.0%)plasma (1 - 0.0%)periodontal pocket (1 - 0.0%)patients (1 - 0.0%)parotid glands (1 - 0.0%)Paired embryo sets (1 - 0.0%)only patient enrolled (1 - 0.0%)number of warts treated (1 - 0.0%)Number of thighs (1 - 0.0%)Number of Lesions for Biopsy (1 - 0.0%)number (1 - 0.0%)Nose (1 - 0.0%)NLF Treatments (1 - 0.0%)NCCLs restorations (1 - 0.0%)MRI sites (1 - 0.0%)molar teeth (1 - 0.0%)LVEF (3 measures per patient) (1 - 0.0%)lumbar puncture (1 - 0.0%)Keloids (1 - 0.0%)IV Site (1 - 0.0%)IPVs (1 - 0.0%)Infections (1 - 0.0%)Images (1 - 0.0%)Hips Implanted (1 - 0.0%)hip (1 - 0.0%)hands (1 - 0.0%)features (1 - 0.0%)faeces (1 - 0.0%)Evaluable Patients (1 - 0.0%)encounters (1 - 0.0%)Cheeks (1 - 0.0%)ceramic restoration (1 - 0.0%)cases (1 - 0.0%)Attepmts at target lesions (1 - 0.0%)Arterial Blood Samples (1 - 0.0%)arm skin test area (1 - 0.0%)Arms (1 - 0.0%)Areas on the scalp (1 - 0.0%)Abutments (1 - 0.0%)Abdomen or groin (1 - 0.0%)abdomen (1 - 0.0%)    1\n",
      "Count of Participants (1,465,279 - 70.78%)Number (315,614 - 15.25%)Mean (252,121 - 12.18%)Median (34,625 - 1.67%)Count of Units (1,917 - 0.09%)Geometric Mean (500 - 0.02%)Least Squares Mean (106 - 0.01%)null (93 - 0.0%)Log Mean (10 - 0.0%)Geometric Least Squares Mean (3 - 0.0%)                                                                                                                                                                                                                                                                                                                                                                                                                                                                                                                                                                                                                                                                                                                                                                                                                                                                                                                                                                                                                                                                                                                                                                                                                                                                                                                                                                                                                                                                                                                                                                                                                                                                                                                                                                                                                                                                                                                                                                                                                                                                                                                                                                                                                                                                                                                                                                                                                                                                                                                                                                                                                                                                                                                                                                                                                                                                                                                                                                                                                                                                                                                                                                                                                                                                                                                                                                                                                                                                                                                                                                                                                                                                                                                                                                                                                                                                                                                                                                                                                                                                                               1\n",
      "true (309,613 - 64.45%)false (170,790 - 35.55%)                                                                                                                                                                                                                                                                                                                                                                                                                                                                                                                                                                                                                                                                                                                                                                                                                                                                                                                                                                                                                                                                                                                                                                                                                                                                                                                                                                                                                                                                                                                                                                                                                                                                                                                                                                                                                                                                                                                                                                                                                                                                                                                                                                                                                                                                                                                                                                                                                                                                                                                                                                                                                                                                                                                                                                                                                                                                                                                                                                                                                                                                                                                                                                                                                                                                                                                                                                                                                                                                                                                                                                                                                                                                                                                                                                                                                                                                                                                                                                                                                                                                                                                                                                                                                                                                                                                                      1\n",
      "Name: count, dtype: int64\n",
      "Most common values for source\n",
      "source\n",
      "ProtocolSection.IdentificationModule.NCTId                                                                                                                                                                      43\n",
      "basic study information                                                                                                                                                                                         16\n",
      "results reporting information                                                                                                                                                                                    8\n",
      "sponsors and funding                                                                                                                                                                                             6\n",
      "study design characteristics                                                                                                                                                                                     6\n",
      "ProtocolSection.DesignModule.DesignInfo.DesignMaskingInfo.DesignWhoMaskedList.DesignWhoMasked                                                                                                                    4\n",
      "..                                                                                                                                                                                                               4\n",
      "information about delays to results reporting requirements                                                                                                                                                       4\n",
      "ResultsSection.OutcomeMeasuresModule.OutcomeMeasureList.OutcomeMeasure.OutcomeClassList.OutcomeClass.OutcomeCategoryList.OutcomeCategory.OutcomeMeasurementList.OutcomeMeasurement.OutcomeMeasurementComment     3\n",
      "ResultsSection.OutcomeMeasuresModule.OutcomeMeasureList.OutcomeMeasure.OutcomeMeasureDispersionType                                                                                                              2\n",
      "Name: count, dtype: int64\n"
     ]
    }
   ],
   "source": [
    "# Get the most common values for the columns\n",
    "for column in df.columns:\n",
    "    print(f\"Most common values for {column}\")\n",
    "    print(df[column].value_counts().head(10))"
   ]
  },
  {
   "cell_type": "markdown",
   "metadata": {},
   "source": [
    "### 2.2. Creating some utility functions"
   ]
  },
  {
   "cell_type": "code",
   "execution_count": null,
   "metadata": {},
   "outputs": [],
   "source": [
    "def get_table_info(file_path):\n",
    "    print(f\"Getting info for {file_path.name}\")\n",
    "    df = pd.read_csv(file_path)\n",
    "    df.info()"
   ]
  },
  {
   "cell_type": "code",
   "execution_count": 9,
   "metadata": {},
   "outputs": [
    {
     "name": "stdout",
     "output_type": "stream",
     "text": [
      "Getting info for 2024-03-15_aact_data_elements_metadata.csv\n",
      "<class 'pandas.core.frame.DataFrame'>\n",
      "RangeIndex: 453 entries, 0 to 452\n",
      "Data columns (total 9 columns):\n",
      " #   Column        Non-Null Count  Dtype  \n",
      "---  ------        --------------  -----  \n",
      " 0   Unnamed: 0    0 non-null      float64\n",
      " 1   nlm doc       324 non-null    object \n",
      " 2   db schema     453 non-null    object \n",
      " 3   table         453 non-null    object \n",
      " 4   column        453 non-null    object \n",
      " 5   data type     451 non-null    object \n",
      " 6   CTTI note     269 non-null    object \n",
      " 7   enumerations  67 non-null     object \n",
      " 8   source        344 non-null    object \n",
      "dtypes: float64(1), object(8)\n",
      "memory usage: 32.0+ KB\n"
     ]
    }
   ],
   "source": []
  },
  {
   "cell_type": "code",
   "execution_count": 10,
   "metadata": {},
   "outputs": [
    {
     "name": "stdout",
     "output_type": "stream",
     "text": [
      "Getting info for 2024-03-15_aact_tables_metadata.csv\n",
      "<class 'pandas.core.frame.DataFrame'>\n",
      "RangeIndex: 51 entries, 0 to 50\n",
      "Data columns (total 6 columns):\n",
      " #   Column          Non-Null Count  Dtype \n",
      "---  ------          --------------  ----- \n",
      " 0   Schema          51 non-null     object\n",
      " 1   Name            51 non-null     object\n",
      " 2   Row Count       51 non-null     int64 \n",
      " 3   Description     46 non-null     object\n",
      " 4   Domain          44 non-null     object\n",
      " 5   Rows per Study  45 non-null     object\n",
      "dtypes: int64(1), object(5)\n",
      "memory usage: 2.5+ KB\n"
     ]
    }
   ],
   "source": [
    "get_table_info(file_paths[1])"
   ]
  },
  {
   "cell_type": "code",
   "execution_count": 11,
   "metadata": {},
   "outputs": [
    {
     "name": "stdout",
     "output_type": "stream",
     "text": [
      "Getting info for 2024-03-15_aact_views_functions_metadata.csv\n",
      "<class 'pandas.core.frame.DataFrame'>\n",
      "RangeIndex: 13 entries, 0 to 12\n",
      "Data columns (total 6 columns):\n",
      " #   Column              Non-Null Count  Dtype \n",
      "---  ------              --------------  ----- \n",
      " 0   Schema              13 non-null     object\n",
      " 1   View/Function name  13 non-null     object\n",
      " 2   Description         12 non-null     object\n",
      " 3   Source Data         13 non-null     object\n",
      " 4   Data Returned       13 non-null     object\n",
      " 5   Example             1 non-null      object\n",
      "dtypes: object(6)\n",
      "memory usage: 756.0+ bytes\n"
     ]
    }
   ],
   "source": [
    "get_table_info(file_paths[2])"
   ]
  },
  {
   "cell_type": "code",
   "execution_count": null,
   "metadata": {},
   "outputs": [],
   "source": []
  },
  {
   "cell_type": "code",
   "execution_count": null,
   "metadata": {},
   "outputs": [],
   "source": []
  },
  {
   "cell_type": "code",
   "execution_count": null,
   "metadata": {},
   "outputs": [],
   "source": []
  },
  {
   "cell_type": "code",
   "execution_count": 1,
   "metadata": {},
   "outputs": [],
   "source": [
    "def load_table(path):\n",
    "    \"\"\"\n",
    "    Load a table from a csv file\n",
    "    \"\"\"\n",
    "    return pd.read_csv(path)\n",
    "\n",
    "def count_unique_values(table):\n",
    "    return table.apply(lambda x: x.nunique()).sort_values()\n",
    "\n",
    "def count_missing_values(table):\n",
    "    return table.apply(lambda x: x.isnull().sum()).sort_values()\n",
    "\n",
    "def create_and_save_barchart(data, title):\n",
    "    data.plot(kind='barh', title=title)\n",
    "    plt.xlabel('Count')\n",
    "    plt.ylabel('Column')\n",
    "    for i, v in enumerate(data):\n",
    "        plt.text(v, i, str(v), ha='left', va='center')\n",
    "    plt.tight_layout()\n",
    "    plt.savefig(f'{title.replace(\" \", \"_\").lower()}.png', dpi=300)\n",
    "\n"
   ]
  },
  {
   "cell_type": "code",
   "execution_count": 2,
   "metadata": {},
   "outputs": [
    {
     "name": "stdout",
     "output_type": "stream",
     "text": [
      "2024-03-15_aact_data_elements_metadata.csv\n",
      "Unnamed: 0        0\n",
      "db schema         4\n",
      "data type         8\n",
      "table            50\n",
      "enumerations     67\n",
      "nlm doc         153\n",
      "CTTI note       154\n",
      "source          230\n",
      "column          250\n",
      "dtype: int64\n",
      "db schema         0\n",
      "table             0\n",
      "column            0\n",
      "data type         2\n",
      "source          109\n",
      "nlm doc         129\n",
      "CTTI note       184\n",
      "enumerations    386\n",
      "Unnamed: 0      453\n",
      "dtype: int64\n",
      "2024-03-15_aact_tables_metadata.csv\n",
      "Schema             2\n",
      "Rows per Study     3\n",
      "Domain             4\n",
      "Row Count         43\n",
      "Description       45\n",
      "Name              51\n",
      "dtype: int64\n",
      "Schema            0\n",
      "Name              0\n",
      "Row Count         0\n",
      "Description       5\n",
      "Rows per Study    6\n",
      "Domain            7\n",
      "dtype: int64\n",
      "2024-03-15_aact_views_functions_metadata.csv\n",
      "Schema                 1\n",
      "Example                1\n",
      "Description           12\n",
      "Data Returned         12\n",
      "View/Function name    13\n",
      "Source Data           13\n",
      "dtype: int64\n",
      "Schema                 0\n",
      "View/Function name     0\n",
      "Source Data            0\n",
      "Data Returned          0\n",
      "Description            1\n",
      "Example               12\n",
      "dtype: int64\n"
     ]
    }
   ],
   "source": [
    "table_paths = get_tables_paths()\n",
    "\n",
    "for table_path in table_paths:\n",
    "    table = load_table(table_path)\n",
    "    print(table_path.name)\n",
    "    print(count_unique_values(table))\n",
    "    print(count_missing_values(table))\n",
    "    "
   ]
  },
  {
   "cell_type": "code",
   "execution_count": null,
   "metadata": {},
   "outputs": [],
   "source": []
  }
 ],
 "metadata": {
  "kernelspec": {
   "display_name": "blog-temp-evn",
   "language": "python",
   "name": "python3"
  },
  "language_info": {
   "codemirror_mode": {
    "name": "ipython",
    "version": 3
   },
   "file_extension": ".py",
   "mimetype": "text/x-python",
   "name": "python",
   "nbconvert_exporter": "python",
   "pygments_lexer": "ipython3",
   "version": "3.11.7"
  }
 },
 "nbformat": 4,
 "nbformat_minor": 2
}
